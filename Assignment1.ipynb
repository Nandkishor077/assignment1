{
 "cells": [
  {
   "cell_type": "code",
   "execution_count": null,
   "id": "97dee974-c18d-40b1-a760-a6aa72003c43",
   "metadata": {
    "collapsed": true,
    "jupyter": {
     "outputs_hidden": true
    },
    "tags": []
   },
   "outputs": [
    {
     "ename": "SyntaxError",
     "evalue": "invalid syntax (3369508152.py, line 1)",
     "output_type": "error",
     "traceback": [
      "\u001b[0;36m  Cell \u001b[0;32mIn[1], line 1\u001b[0;36m\u001b[0m\n\u001b[0;31m    Q1.  Explain with an example each when to use a for loop and a while loop.\u001b[0m\n\u001b[0m                 ^\u001b[0m\n\u001b[0;31mSyntaxError\u001b[0m\u001b[0;31m:\u001b[0m invalid syntax\n"
     ]
    }
   ],
   "source": [
    "Q1.  Explain with an example each when to use a for loop and a while loop.\n",
    "Ans. FOR LOOP:\n",
    "     A for loop is used when number of iteration is already known and the keyword 'for' is used for this.\n",
    "     A for loop has two part Header and Body. Header part specifies the number of iteration of the loop \n",
    "     and the variable declared in it specifies the body code which iteration is being exicuted.\n",
    "     WHILE LOOP:\n",
    "     A while loop is used when the exact number of iteration is unknown , while loop is itereted untill a given\n",
    "     condition is true.\n",
    "\n",
    "        "
   ]
  },
  {
   "cell_type": "code",
   "execution_count": 3,
   "id": "2d123928-e30d-4185-8100-abfc8c216c85",
   "metadata": {
    "collapsed": true,
    "jupyter": {
     "outputs_hidden": true
    },
    "tags": []
   },
   "outputs": [
    {
     "name": "stdout",
     "output_type": "stream",
     "text": [
      "1\n",
      "2\n",
      "3\n",
      "4\n",
      "5\n"
     ]
    }
   ],
   "source": [
    "l1 = [1,2,3,4,5]\n",
    "for i in l1 :\n",
    "    print(i)"
   ]
  },
  {
   "cell_type": "code",
   "execution_count": null,
   "id": "9b13c9d3-7ec5-4d45-8d9e-dc991b5e6563",
   "metadata": {},
   "outputs": [],
   "source": [
    "i=0\n",
    "a=5\n",
    "while i < a:\n",
    "    print(i)\n",
    "    i=i+1"
   ]
  },
  {
   "cell_type": "code",
   "execution_count": null,
   "id": "8b6f3145-0363-4ed4-b086-21c3f0407361",
   "metadata": {},
   "outputs": [],
   "source": [
    "Q2. Write a python program to print the sum and product of the first 10 natural numbers using for\n",
    "and while loop."
   ]
  },
  {
   "cell_type": "code",
   "execution_count": null,
   "id": "91d7395e-b404-4ac8-b630-cd048ac12e7d",
   "metadata": {},
   "outputs": [],
   "source": [
    "Ans. \n"
   ]
  },
  {
   "cell_type": "code",
   "execution_count": 2,
   "id": "2a1df975-3b76-4acb-930a-2cd49394a268",
   "metadata": {
    "tags": []
   },
   "outputs": [
    {
     "name": "stdout",
     "output_type": "stream",
     "text": [
      "sum of the fisrt 10 natural number: 55\n",
      "product of fisrt 10 natural number : 3628800\n"
     ]
    }
   ],
   "source": [
    "sum = 0\n",
    "product = 1\n",
    "for i in range(1,11) :\n",
    "    sum = sum + i\n",
    "    product = product * i\n",
    "print(\"sum of the fisrt 10 natural number:\" ,sum )\n",
    "print(\"product of fisrt 10 natural number :\",product)"
   ]
  },
  {
   "cell_type": "code",
   "execution_count": 1,
   "id": "c1311a06-b577-4e39-ae1c-1823ec82d516",
   "metadata": {
    "tags": []
   },
   "outputs": [
    {
     "name": "stdout",
     "output_type": "stream",
     "text": [
      "sum of the fisrt 10 natural number: 55\n",
      "product of fisrt 10 natural number : 3628800\n"
     ]
    }
   ],
   "source": [
    "j=1\n",
    "sum=0\n",
    "product=1\n",
    "while j < 11 :\n",
    "    sum = sum+j \n",
    "    product = product*j\n",
    "    j=j+1\n",
    "    \n",
    "print(\"sum of the fisrt 10 natural number:\" ,sum )\n",
    "print(\"product of fisrt 10 natural number :\",product)"
   ]
  },
  {
   "cell_type": "code",
   "execution_count": null,
   "id": "80062334-5ef1-4579-b5c3-9909eb2219f2",
   "metadata": {
    "collapsed": true,
    "jupyter": {
     "outputs_hidden": true
    },
    "tags": []
   },
   "outputs": [
    {
     "ename": "SyntaxError",
     "evalue": "invalid syntax (1652147017.py, line 1)",
     "output_type": "error",
     "traceback": [
      "\u001b[0;36m  Cell \u001b[0;32mIn[1], line 1\u001b[0;36m\u001b[0m\n\u001b[0;31m    Q3. Create a python program to compute the electricity bill for a household.\u001b[0m\n\u001b[0m               ^\u001b[0m\n\u001b[0;31mSyntaxError\u001b[0m\u001b[0;31m:\u001b[0m invalid syntax\n"
     ]
    }
   ],
   "source": [
    "Q3. Create a python program to compute the electricity bill for a household.\n",
    "\n",
    "The per-unit charges in rupees are as follows: For the first 100 units, the user will be charged Rs. 4.5 per\n",
    "unit, for the next 100 units, the user will be charged Rs. 6 per unit, and for the next 100 units, the user will\n",
    "be charged Rs. 10 per unit, After 300 units and above the user will be charged Rs. 20 per unit.\n",
    "You are required to take the units of electricity consumed in a month from the user as input.\n",
    "Your program must pass this test case: when the unit of electricity consumed by the user in a month is\n",
    "310, the total electricity bill should be 2250.\n",
    "Ans.\n",
    "\n",
    "\n",
    "unit = 0\n",
    "bill_amount=0\n",
    "unit = int(input(\"Enter the unit of your Electricity Bill:\"))\n",
    "print(\"you have entered unit =\", unit)\n",
    "if unit > 300:\n",
    "    bill_amount= 100*4.5 + 100*6 + 100*10 + (unit-300)*20\n",
    "    print(\"your electricity bill is =\",bill_amount)\n",
    "elif unit>200 and unit<301:\n",
    "    bill_amouunt= 100*4.5 + 100*6 + (unit-200)*10\n",
    "    print(\"your electricity bill is =\",bill_amount)\n",
    "elif unit>100 and unit<201:\n",
    "    bill_amount= 100*4.5 + (unit-100)*6\n",
    "    print(\"your electricity bill is =\",bill_amount)\n",
    "else :\n",
    "    bill_amount= unit*4.5\n",
    "    print(\"your electricity bill is =\",bill_amount)\n",
    "    \n",
    "\n"
   ]
  },
  {
   "cell_type": "code",
   "execution_count": null,
   "id": "b1ebd65e-206f-436f-b957-787f9f149d5f",
   "metadata": {},
   "outputs": [],
   "source": [
    "Q4. Create a list of numbers from 1 to 100. Use for loop and while loop to calculate the cube of each\n",
    "number and if the cube of that number is divisible by 4 or 5 then append that number in a list and print\n",
    "that list.\n",
    "ans.\n",
    "for loop example"
   ]
  },
  {
   "cell_type": "code",
   "execution_count": null,
   "id": "6986a558-4d26-4156-b710-9e063bd0e874",
   "metadata": {
    "tags": []
   },
   "outputs": [],
   "source": [
    "l1=[]\n",
    "l2=[]\n",
    "for i in range(1,101):\n",
    "    l1.append(i*i*i)\n",
    "    if i*i*i % 4 ==0 and i*i*i % 5 ==0 :\n",
    "        l2.append(i*i*i)\n",
    "print(l2)\n",
    "\n",
    "\n",
    "while loop example\n",
    "\n"
   ]
  },
  {
   "cell_type": "code",
   "execution_count": 2,
   "id": "68967997-6fe6-4a90-9400-9c700125d78f",
   "metadata": {
    "collapsed": true,
    "jupyter": {
     "outputs_hidden": true
    },
    "tags": []
   },
   "outputs": [
    {
     "name": "stdout",
     "output_type": "stream",
     "text": [
      "[1000, 8000, 27000, 64000, 125000, 216000, 343000, 512000, 729000, 1000000]\n"
     ]
    }
   ],
   "source": [
    "i=1\n",
    "l1=[]\n",
    "while i < 101 :\n",
    "    if i*i*i % 5==0 and i*i*i % 4==0 :\n",
    "        l1.append(i*i*i)\n",
    "    i=i+1\n",
    "    \n",
    "print(l1)\n",
    "    "
   ]
  },
  {
   "cell_type": "code",
   "execution_count": null,
   "id": "47b61b95-1b83-4fa6-97ec-bcb4db97898f",
   "metadata": {},
   "outputs": [],
   "source": [
    "Q5. Write a program to filter count vowels in the below-given string.\n",
    "string = \"I want to become a data scientist\"\n",
    "ans.\n",
    "\n"
   ]
  },
  {
   "cell_type": "code",
   "execution_count": 5,
   "id": "e7418dfa-fbb4-4970-95e7-f875bb822076",
   "metadata": {},
   "outputs": [
    {
     "name": "stdout",
     "output_type": "stream",
     "text": [
      "number of vowels: 12\n"
     ]
    }
   ],
   "source": [
    "str = \"I want to become a data scientist \"\n",
    "l1 = ['a','e','i','o','u','A','E','I','O','U']\n",
    "count=0\n",
    "for i in str :\n",
    "    if i in l1:\n",
    "        count= count +1\n",
    "print(\"number of vowels:\", count)"
   ]
  }
 ],
 "metadata": {
  "kernelspec": {
   "display_name": "Python 3 (ipykernel)",
   "language": "python",
   "name": "python3"
  },
  "language_info": {
   "codemirror_mode": {
    "name": "ipython",
    "version": 3
   },
   "file_extension": ".py",
   "mimetype": "text/x-python",
   "name": "python",
   "nbconvert_exporter": "python",
   "pygments_lexer": "ipython3",
   "version": "3.10.8"
  }
 },
 "nbformat": 4,
 "nbformat_minor": 5
}
